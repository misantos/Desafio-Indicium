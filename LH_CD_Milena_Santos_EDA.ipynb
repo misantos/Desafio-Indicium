{
  "nbformat": 4,
  "nbformat_minor": 0,
  "metadata": {
    "colab": {
      "provenance": []
    },
    "kernelspec": {
      "name": "python3",
      "display_name": "Python 3"
    },
    "language_info": {
      "name": "python"
    }
  },
  "cells": [
    {
      "cell_type": "code",
      "source": [
        "import pandas as pd\n",
        "import matplotlib.pyplot as plt\n",
        "import seaborn as sns\n",
        "import plotly.express as px\n",
        "import numpy as np\n",
        "\n",
        "veiculos_usados = pd.read_csv('/content/cars_train_estatistico.csv', sep=',')\n",
        "\n",
        "# informações sobre o conjunto de dados\n",
        "veiculos_usados.info()"
      ],
      "metadata": {
        "colab": {
          "base_uri": "https://localhost:8080/"
        },
        "id": "8JYIU4GgLWuf",
        "outputId": "663060d8-3f42-4094-f91a-ae0cbbaeba08"
      },
      "execution_count": null,
      "outputs": [
        {
          "output_type": "stream",
          "name": "stdout",
          "text": [
            "<class 'pandas.core.frame.DataFrame'>\n",
            "RangeIndex: 26296 entries, 0 to 26295\n",
            "Data columns (total 26 columns):\n",
            " #   Column                   Non-Null Count  Dtype  \n",
            "---  ------                   --------------  -----  \n",
            " 0   num_fotos                26296 non-null  int64  \n",
            " 1   marca                    26296 non-null  object \n",
            " 2   modelo                   26296 non-null  object \n",
            " 3   versao                   26296 non-null  object \n",
            " 4   ano_de_fabricacao        26296 non-null  int64  \n",
            " 5   ano_modelo               26296 non-null  int64  \n",
            " 6   hodometro                26296 non-null  float64\n",
            " 7   cambio                   26296 non-null  object \n",
            " 8   num_portas               26296 non-null  int64  \n",
            " 9   tipo                     26296 non-null  object \n",
            " 10  blindado                 26296 non-null  bool   \n",
            " 11  cor                      26296 non-null  object \n",
            " 12  tipo_vendedor            26296 non-null  object \n",
            " 13  cidade_vendedor          26296 non-null  object \n",
            " 14  estado_vendedor          26296 non-null  object \n",
            " 15  anunciante               26296 non-null  object \n",
            " 16  entrega_delivery         26296 non-null  bool   \n",
            " 17  troca                    26296 non-null  bool   \n",
            " 18  veiculo_único_dono       26296 non-null  bool   \n",
            " 19  revisoes_concessionaria  26296 non-null  bool   \n",
            " 20  garantia_de_fábrica      26296 non-null  bool   \n",
            " 21  revisoes_dentro_agenda   26296 non-null  bool   \n",
            " 22  dono_aceita_troca        26296 non-null  bool   \n",
            " 23  ipva_pago                26296 non-null  bool   \n",
            " 24  veiculo_licenciado       26296 non-null  bool   \n",
            " 25  preco                    26296 non-null  float64\n",
            "dtypes: bool(10), float64(2), int64(4), object(10)\n",
            "memory usage: 3.5+ MB\n"
          ]
        }
      ]
    },
    {
      "cell_type": "markdown",
      "source": [
        "# **EDA**"
      ],
      "metadata": {
        "id": "YjlSjMTKJMm_"
      }
    },
    {
      "cell_type": "markdown",
      "source": [
        "**a) Qual o melhor estado cadastrado na base de dados para se vender um carro de marca popular e por quê?**"
      ],
      "metadata": {
        "id": "lYBqNWoJJYOv"
      }
    },
    {
      "cell_type": "code",
      "source": [
        "# Retorna um array com as marcas populares\n",
        "def obter_carros_populares():\n",
        "\n",
        "  # Obtém a relação ( marcas => quantidade )\n",
        "  marcas = veiculos_usados['marca'].value_counts()\n",
        "\n",
        "  # Ordena a quantidade de anúncio de cada marca em ordem crescente\n",
        "  marcas_valores_asc = marcas.sort_values()\n",
        "\n",
        "  # Calcular o percentil de 85% para identificar os valores que delimitam a maior parte dos dados\n",
        "  percentil = np.percentile(marcas_valores_asc, 85)\n",
        "\n",
        "  # Inicializa array das marcas populares\n",
        "  marcas_populares = []\n",
        "\n",
        "  # Para cada marca de veículo no dataset, verifica-se se a marca pertence aos 85% dos dados\n",
        "  for nome_marca, value in marcas.items():\n",
        "    if value >= percentil:\n",
        "      marcas_populares.append(nome_marca)\n",
        "    #print(f\"Index: {index}, Value: {value}, Valuex: {(value/total_marcas)*100}\")\n",
        "\n",
        "  return marcas_populares"
      ],
      "metadata": {
        "id": "GZJnOWWILjs_"
      },
      "execution_count": null,
      "outputs": []
    },
    {
      "cell_type": "code",
      "source": [
        "obter_carros_populares()"
      ],
      "metadata": {
        "id": "GnWLMVE1Urka",
        "outputId": "6dccc1dc-fa9a-460d-d75e-a91992713411",
        "colab": {
          "base_uri": "https://localhost:8080/"
        }
      },
      "execution_count": null,
      "outputs": [
        {
          "output_type": "execute_result",
          "data": {
            "text/plain": [
              "['VOLKSWAGEN', 'CHEVROLET', 'JEEP', 'TOYOTA', 'FIAT', 'HYUNDAI']"
            ]
          },
          "metadata": {},
          "execution_count": 3
        }
      ]
    },
    {
      "cell_type": "code",
      "source": [
        "def obter_estatistica_marca_por_estado( marca ):\n",
        "\n",
        "  # Aplica o filtro para obter os anúncios da marca correspondente\n",
        "  anuncios = veiculos_usados.loc[veiculos_usados['marca'] == marca]\n",
        "\n",
        "  # Obtém os estados contidos nos anúncios\n",
        "  anuncios_estados = anuncios['estado_vendedor'].unique()\n",
        "\n",
        "  # Array de estatistica\n",
        "  marcas = []\n",
        "  estados = []\n",
        "  estado_anuncios = []\n",
        "  for estado in anuncios_estados:\n",
        "\n",
        "    # Obtém todos os anúncios do estado atual\n",
        "    anuncios_estado_atual =  anuncios.loc[anuncios['estado_vendedor'] == estado]\n",
        "\n",
        "    marcas.append(marca)\n",
        "    estados.append(estado)\n",
        "    estado_anuncios.append(len(anuncios_estado_atual))\n",
        "\n",
        "  # Create a DataFrame from the lists\n",
        "  estatisticas = pd.DataFrame({'marca': marcas, 'estado': estados, 'anuncios': estado_anuncios})\n",
        "  return estatisticas\n",
        "\n",
        "\n",
        "estatisticas = pd.DataFrame()\n",
        "marcas_populares = obter_carros_populares()\n",
        "\n",
        "for marca in marcas_populares:\n",
        "  estatistica = obter_estatistica_marca_por_estado(marca)\n",
        "  estatisticas = pd.concat([estatisticas, estatistica], ignore_index=True)\n",
        "  break\n",
        "\n",
        "total_anuncios_carros_populares_por_estado = estatisticas.groupby('estado')['anuncios'].sum().sort_values()\n",
        "total_anuncios_carros_populares_por_estado"
      ],
      "metadata": {
        "id": "UpJFoxa0ZD-Q",
        "colab": {
          "base_uri": "https://localhost:8080/"
        },
        "outputId": "732fb3bc-f92e-449f-acd3-cb45aa7e248b"
      },
      "execution_count": null,
      "outputs": [
        {
          "output_type": "execute_result",
          "data": {
            "text/plain": [
              "estado\n",
              "Tocantins (TO)                 1\n",
              "Sergipe (SE)                   1\n",
              "Rondônia (RO)                  1\n",
              "Espírito Santo (ES)            2\n",
              "Acre (AC)                      2\n",
              "Mato Grosso do Sul (MS)        3\n",
              "Mato Grosso (MT)               4\n",
              "Amazonas (AM)                  8\n",
              "Pará (PA)                      8\n",
              "Rio Grande do Norte (RN)       9\n",
              "Ceará (CE)                     9\n",
              "Paraíba (PB)                  29\n",
              "Alagoas (AL)                  34\n",
              "Pernambuco (PE)               48\n",
              "Bahia (BA)                    68\n",
              "Goiás (GO)                   125\n",
              "Rio Grande do Sul (RS)       229\n",
              "Minas Gerais (MG)            252\n",
              "Santa Catarina (SC)          288\n",
              "Paraná (PR)                  320\n",
              "Rio de Janeiro (RJ)          331\n",
              "São Paulo (SP)              2372\n",
              "Name: anuncios, dtype: int64"
            ]
          },
          "metadata": {},
          "execution_count": 4
        }
      ]
    },
    {
      "cell_type": "markdown",
      "source": [
        "O estado de São Paulo (SP) tem o maior número de anúncios de carros populares, enquanto o estado do Rio de Janeiro (RJ) tem o segundo maior número de anúncios, logo são 2 estados candidatos a ser indicado para vender um veículo popular levando em consideração a lei da oferta e demanda"
      ],
      "metadata": {
        "id": "GofgQE5N4U67"
      }
    },
    {
      "cell_type": "markdown",
      "source": [
        "**b) Qual o melhor estado para se comprar uma picape com transmissão automática e por quê?**\n"
      ],
      "metadata": {
        "id": "SbGubIqySRWh"
      }
    },
    {
      "cell_type": "markdown",
      "source": [
        "Filtrando a base de dados com o tipo picape e cambio automático"
      ],
      "metadata": {
        "id": "omI5KkcAjPKo"
      }
    },
    {
      "cell_type": "code",
      "source": [
        "picape_automatica = veiculos_usados[(veiculos_usados.tipo == 'Picape') & (veiculos_usados.cambio == 'Automática')]"
      ],
      "metadata": {
        "id": "V0205lk1S1PA"
      },
      "execution_count": null,
      "outputs": []
    },
    {
      "cell_type": "code",
      "source": [
        "picape_automatica.shape"
      ],
      "metadata": {
        "colab": {
          "base_uri": "https://localhost:8080/"
        },
        "id": "RjTsZW7QXNC5",
        "outputId": "e8a12d86-d0ec-43d5-e6c2-2f498834d1b6"
      },
      "execution_count": null,
      "outputs": [
        {
          "output_type": "execute_result",
          "data": {
            "text/plain": [
              "(3010, 26)"
            ]
          },
          "metadata": {},
          "execution_count": 6
        }
      ]
    },
    {
      "cell_type": "markdown",
      "source": [
        "Quantidade de vezes que cada estado está no dataframe filtrado"
      ],
      "metadata": {
        "id": "QId2gtjOjYuY"
      }
    },
    {
      "cell_type": "code",
      "source": [
        "picape_automatica.estado_vendedor.value_counts()"
      ],
      "metadata": {
        "colab": {
          "base_uri": "https://localhost:8080/"
        },
        "id": "Fso70_yMZwjh",
        "outputId": "2b4696ab-a971-4cf9-d798-b683f0b689d0"
      },
      "execution_count": null,
      "outputs": [
        {
          "output_type": "execute_result",
          "data": {
            "text/plain": [
              "São Paulo (SP)              1557\n",
              "Paraná (PR)                  320\n",
              "Rio de Janeiro (RJ)          286\n",
              "Santa Catarina (SC)          253\n",
              "Minas Gerais (MG)            194\n",
              "Rio Grande do Sul (RS)       180\n",
              "Goiás (GO)                    98\n",
              "Bahia (BA)                    66\n",
              "Pernambuco (PE)               13\n",
              "Alagoas (AL)                  12\n",
              "Acre (AC)                      6\n",
              "Mato Grosso (MT)               6\n",
              "Paraíba (PB)                   4\n",
              "Piauí (PI)                     4\n",
              "Sergipe (SE)                   4\n",
              "Mato Grosso do Sul (MS)        3\n",
              "Tocantins (TO)                 3\n",
              "Rio Grande do Norte (RN)       1\n",
              "Name: estado_vendedor, dtype: int64"
            ]
          },
          "metadata": {},
          "execution_count": 7
        }
      ]
    },
    {
      "cell_type": "markdown",
      "source": [
        "Agrupando os estados com o menor preço de cada um"
      ],
      "metadata": {
        "id": "T8O-uQcTjrwj"
      }
    },
    {
      "cell_type": "code",
      "source": [
        "separando_por_estado = picape_automatica.groupby(\"estado_vendedor\")[\"preco\"].min()\n",
        "separando_por_estado.sort_values()"
      ],
      "metadata": {
        "colab": {
          "base_uri": "https://localhost:8080/"
        },
        "id": "8eCFhVqXdC_R",
        "outputId": "434ee1a9-2900-42f9-ade0-df55b2ae803c"
      },
      "execution_count": null,
      "outputs": [
        {
          "output_type": "execute_result",
          "data": {
            "text/plain": [
              "estado_vendedor\n",
              "São Paulo (SP)               25664.65\n",
              "Paraná (PR)                  33474.73\n",
              "Rio Grande do Sul (RS)       40222.47\n",
              "Santa Catarina (SC)          41524.67\n",
              "Rio de Janeiro (RJ)          45299.29\n",
              "Mato Grosso do Sul (MS)      51084.11\n",
              "Alagoas (AL)                 52207.25\n",
              "Acre (AC)                    56452.61\n",
              "Minas Gerais (MG)            58014.16\n",
              "Bahia (BA)                   61529.78\n",
              "Goiás (GO)                   72266.20\n",
              "Paraíba (PB)                 73223.79\n",
              "Pernambuco (PE)              75521.48\n",
              "Tocantins (TO)              121772.92\n",
              "Piauí (PI)                  147846.62\n",
              "Mato Grosso (MT)            167591.88\n",
              "Rio Grande do Norte (RN)    179961.69\n",
              "Sergipe (SE)                233540.34\n",
              "Name: preco, dtype: float64"
            ]
          },
          "metadata": {},
          "execution_count": 8
        }
      ]
    },
    {
      "cell_type": "markdown",
      "source": [
        "Verificando o menor valor"
      ],
      "metadata": {
        "id": "GI_SqJOfj_kB"
      }
    },
    {
      "cell_type": "code",
      "source": [
        "sao_paulo = picape_automatica[picape_automatica.estado_vendedor == 'São Paulo (SP)']\n",
        "sao_paulo.groupby(\"estado_vendedor\")[\"preco\"].min()"
      ],
      "metadata": {
        "colab": {
          "base_uri": "https://localhost:8080/"
        },
        "id": "16j6W_rjftPi",
        "outputId": "62b197b2-bf28-4780-decd-dfed80b7dbb9"
      },
      "execution_count": null,
      "outputs": [
        {
          "output_type": "execute_result",
          "data": {
            "text/plain": [
              "estado_vendedor\n",
              "São Paulo (SP)    25664.65\n",
              "Name: preco, dtype: float64"
            ]
          },
          "metadata": {},
          "execution_count": 9
        }
      ]
    },
    {
      "cell_type": "markdown",
      "source": [
        "O estado de SP é o melhor estado para se comprar uma Picape com transmissão automática, já que é o estado com o menor valor de mercado."
      ],
      "metadata": {
        "id": "MAcaQm1WkLtw"
      }
    },
    {
      "cell_type": "code",
      "source": [
        "sao_paulo[sao_paulo.preco == 25664.65]"
      ],
      "metadata": {
        "colab": {
          "base_uri": "https://localhost:8080/",
          "height": 226
        },
        "id": "etwsRHVAg1ih",
        "outputId": "4b76b885-67de-4146-9041-22e23102e831"
      },
      "execution_count": null,
      "outputs": [
        {
          "output_type": "execute_result",
          "data": {
            "text/plain": [
              "       num_fotos   marca modelo                               versao  \\\n",
              "25344          8  TOYOTA  ETIOS  1.5 PLATINUM 16V FLEX 4P AUTOMÁTICO   \n",
              "\n",
              "       ano_de_fabricacao  ano_modelo  hodometro      cambio  num_portas  \\\n",
              "25344               2017        2018   112344.0  Automática           4   \n",
              "\n",
              "         tipo  ...  entrega_delivery  troca veiculo_único_dono  \\\n",
              "25344  Picape  ...             False  False               True   \n",
              "\n",
              "      revisoes_concessionaria garantia_de_fábrica revisoes_dentro_agenda  \\\n",
              "25344                    True               False                   True   \n",
              "\n",
              "       dono_aceita_troca  ipva_pago  veiculo_licenciado     preco  \n",
              "25344              False       True                True  25664.65  \n",
              "\n",
              "[1 rows x 26 columns]"
            ],
            "text/html": [
              "\n",
              "\n",
              "  <div id=\"df-8b707e2b-871b-420c-8a3b-a7d93a9d95b7\">\n",
              "    <div class=\"colab-df-container\">\n",
              "      <div>\n",
              "<style scoped>\n",
              "    .dataframe tbody tr th:only-of-type {\n",
              "        vertical-align: middle;\n",
              "    }\n",
              "\n",
              "    .dataframe tbody tr th {\n",
              "        vertical-align: top;\n",
              "    }\n",
              "\n",
              "    .dataframe thead th {\n",
              "        text-align: right;\n",
              "    }\n",
              "</style>\n",
              "<table border=\"1\" class=\"dataframe\">\n",
              "  <thead>\n",
              "    <tr style=\"text-align: right;\">\n",
              "      <th></th>\n",
              "      <th>num_fotos</th>\n",
              "      <th>marca</th>\n",
              "      <th>modelo</th>\n",
              "      <th>versao</th>\n",
              "      <th>ano_de_fabricacao</th>\n",
              "      <th>ano_modelo</th>\n",
              "      <th>hodometro</th>\n",
              "      <th>cambio</th>\n",
              "      <th>num_portas</th>\n",
              "      <th>tipo</th>\n",
              "      <th>...</th>\n",
              "      <th>entrega_delivery</th>\n",
              "      <th>troca</th>\n",
              "      <th>veiculo_único_dono</th>\n",
              "      <th>revisoes_concessionaria</th>\n",
              "      <th>garantia_de_fábrica</th>\n",
              "      <th>revisoes_dentro_agenda</th>\n",
              "      <th>dono_aceita_troca</th>\n",
              "      <th>ipva_pago</th>\n",
              "      <th>veiculo_licenciado</th>\n",
              "      <th>preco</th>\n",
              "    </tr>\n",
              "  </thead>\n",
              "  <tbody>\n",
              "    <tr>\n",
              "      <th>25344</th>\n",
              "      <td>8</td>\n",
              "      <td>TOYOTA</td>\n",
              "      <td>ETIOS</td>\n",
              "      <td>1.5 PLATINUM 16V FLEX 4P AUTOMÁTICO</td>\n",
              "      <td>2017</td>\n",
              "      <td>2018</td>\n",
              "      <td>112344.0</td>\n",
              "      <td>Automática</td>\n",
              "      <td>4</td>\n",
              "      <td>Picape</td>\n",
              "      <td>...</td>\n",
              "      <td>False</td>\n",
              "      <td>False</td>\n",
              "      <td>True</td>\n",
              "      <td>True</td>\n",
              "      <td>False</td>\n",
              "      <td>True</td>\n",
              "      <td>False</td>\n",
              "      <td>True</td>\n",
              "      <td>True</td>\n",
              "      <td>25664.65</td>\n",
              "    </tr>\n",
              "  </tbody>\n",
              "</table>\n",
              "<p>1 rows × 26 columns</p>\n",
              "</div>\n",
              "      <button class=\"colab-df-convert\" onclick=\"convertToInteractive('df-8b707e2b-871b-420c-8a3b-a7d93a9d95b7')\"\n",
              "              title=\"Convert this dataframe to an interactive table.\"\n",
              "              style=\"display:none;\">\n",
              "\n",
              "  <svg xmlns=\"http://www.w3.org/2000/svg\" height=\"24px\"viewBox=\"0 0 24 24\"\n",
              "       width=\"24px\">\n",
              "    <path d=\"M0 0h24v24H0V0z\" fill=\"none\"/>\n",
              "    <path d=\"M18.56 5.44l.94 2.06.94-2.06 2.06-.94-2.06-.94-.94-2.06-.94 2.06-2.06.94zm-11 1L8.5 8.5l.94-2.06 2.06-.94-2.06-.94L8.5 2.5l-.94 2.06-2.06.94zm10 10l.94 2.06.94-2.06 2.06-.94-2.06-.94-.94-2.06-.94 2.06-2.06.94z\"/><path d=\"M17.41 7.96l-1.37-1.37c-.4-.4-.92-.59-1.43-.59-.52 0-1.04.2-1.43.59L10.3 9.45l-7.72 7.72c-.78.78-.78 2.05 0 2.83L4 21.41c.39.39.9.59 1.41.59.51 0 1.02-.2 1.41-.59l7.78-7.78 2.81-2.81c.8-.78.8-2.07 0-2.86zM5.41 20L4 18.59l7.72-7.72 1.47 1.35L5.41 20z\"/>\n",
              "  </svg>\n",
              "      </button>\n",
              "\n",
              "\n",
              "\n",
              "    <div id=\"df-8b0632a4-2f0f-4de8-a1b3-be79f120370e\">\n",
              "      <button class=\"colab-df-quickchart\" onclick=\"quickchart('df-8b0632a4-2f0f-4de8-a1b3-be79f120370e')\"\n",
              "              title=\"Suggest charts.\"\n",
              "              style=\"display:none;\">\n",
              "\n",
              "<svg xmlns=\"http://www.w3.org/2000/svg\" height=\"24px\"viewBox=\"0 0 24 24\"\n",
              "     width=\"24px\">\n",
              "    <g>\n",
              "        <path d=\"M19 3H5c-1.1 0-2 .9-2 2v14c0 1.1.9 2 2 2h14c1.1 0 2-.9 2-2V5c0-1.1-.9-2-2-2zM9 17H7v-7h2v7zm4 0h-2V7h2v10zm4 0h-2v-4h2v4z\"/>\n",
              "    </g>\n",
              "</svg>\n",
              "      </button>\n",
              "    </div>\n",
              "\n",
              "<style>\n",
              "  .colab-df-quickchart {\n",
              "    background-color: #E8F0FE;\n",
              "    border: none;\n",
              "    border-radius: 50%;\n",
              "    cursor: pointer;\n",
              "    display: none;\n",
              "    fill: #1967D2;\n",
              "    height: 32px;\n",
              "    padding: 0 0 0 0;\n",
              "    width: 32px;\n",
              "  }\n",
              "\n",
              "  .colab-df-quickchart:hover {\n",
              "    background-color: #E2EBFA;\n",
              "    box-shadow: 0px 1px 2px rgba(60, 64, 67, 0.3), 0px 1px 3px 1px rgba(60, 64, 67, 0.15);\n",
              "    fill: #174EA6;\n",
              "  }\n",
              "\n",
              "  [theme=dark] .colab-df-quickchart {\n",
              "    background-color: #3B4455;\n",
              "    fill: #D2E3FC;\n",
              "  }\n",
              "\n",
              "  [theme=dark] .colab-df-quickchart:hover {\n",
              "    background-color: #434B5C;\n",
              "    box-shadow: 0px 1px 3px 1px rgba(0, 0, 0, 0.15);\n",
              "    filter: drop-shadow(0px 1px 2px rgba(0, 0, 0, 0.3));\n",
              "    fill: #FFFFFF;\n",
              "  }\n",
              "</style>\n",
              "\n",
              "    <script>\n",
              "      async function quickchart(key) {\n",
              "        const containerElement = document.querySelector('#' + key);\n",
              "        const charts = await google.colab.kernel.invokeFunction(\n",
              "            'suggestCharts', [key], {});\n",
              "      }\n",
              "    </script>\n",
              "\n",
              "      <script>\n",
              "\n",
              "function displayQuickchartButton(domScope) {\n",
              "  let quickchartButtonEl =\n",
              "    domScope.querySelector('#df-8b0632a4-2f0f-4de8-a1b3-be79f120370e button.colab-df-quickchart');\n",
              "  quickchartButtonEl.style.display =\n",
              "    google.colab.kernel.accessAllowed ? 'block' : 'none';\n",
              "}\n",
              "\n",
              "        displayQuickchartButton(document);\n",
              "      </script>\n",
              "      <style>\n",
              "    .colab-df-container {\n",
              "      display:flex;\n",
              "      flex-wrap:wrap;\n",
              "      gap: 12px;\n",
              "    }\n",
              "\n",
              "    .colab-df-convert {\n",
              "      background-color: #E8F0FE;\n",
              "      border: none;\n",
              "      border-radius: 50%;\n",
              "      cursor: pointer;\n",
              "      display: none;\n",
              "      fill: #1967D2;\n",
              "      height: 32px;\n",
              "      padding: 0 0 0 0;\n",
              "      width: 32px;\n",
              "    }\n",
              "\n",
              "    .colab-df-convert:hover {\n",
              "      background-color: #E2EBFA;\n",
              "      box-shadow: 0px 1px 2px rgba(60, 64, 67, 0.3), 0px 1px 3px 1px rgba(60, 64, 67, 0.15);\n",
              "      fill: #174EA6;\n",
              "    }\n",
              "\n",
              "    [theme=dark] .colab-df-convert {\n",
              "      background-color: #3B4455;\n",
              "      fill: #D2E3FC;\n",
              "    }\n",
              "\n",
              "    [theme=dark] .colab-df-convert:hover {\n",
              "      background-color: #434B5C;\n",
              "      box-shadow: 0px 1px 3px 1px rgba(0, 0, 0, 0.15);\n",
              "      filter: drop-shadow(0px 1px 2px rgba(0, 0, 0, 0.3));\n",
              "      fill: #FFFFFF;\n",
              "    }\n",
              "  </style>\n",
              "\n",
              "      <script>\n",
              "        const buttonEl =\n",
              "          document.querySelector('#df-8b707e2b-871b-420c-8a3b-a7d93a9d95b7 button.colab-df-convert');\n",
              "        buttonEl.style.display =\n",
              "          google.colab.kernel.accessAllowed ? 'block' : 'none';\n",
              "\n",
              "        async function convertToInteractive(key) {\n",
              "          const element = document.querySelector('#df-8b707e2b-871b-420c-8a3b-a7d93a9d95b7');\n",
              "          const dataTable =\n",
              "            await google.colab.kernel.invokeFunction('convertToInteractive',\n",
              "                                                     [key], {});\n",
              "          if (!dataTable) return;\n",
              "\n",
              "          const docLinkHtml = 'Like what you see? Visit the ' +\n",
              "            '<a target=\"_blank\" href=https://colab.research.google.com/notebooks/data_table.ipynb>data table notebook</a>'\n",
              "            + ' to learn more about interactive tables.';\n",
              "          element.innerHTML = '';\n",
              "          dataTable['output_type'] = 'display_data';\n",
              "          await google.colab.output.renderOutput(dataTable, element);\n",
              "          const docLink = document.createElement('div');\n",
              "          docLink.innerHTML = docLinkHtml;\n",
              "          element.appendChild(docLink);\n",
              "        }\n",
              "      </script>\n",
              "    </div>\n",
              "  </div>\n"
            ]
          },
          "metadata": {},
          "execution_count": 10
        }
      ]
    },
    {
      "cell_type": "markdown",
      "source": [
        "**c) Qual o melhor estado para se comprar carros que ainda estejam dentro da garantia de fábrica e por quê?**"
      ],
      "metadata": {
        "id": "eTcoWV_j5N8m"
      }
    },
    {
      "cell_type": "code",
      "source": [
        "veiculos_usados.loc[veiculos_usados['garantia_de_fábrica'] == True].groupby(\"estado_vendedor\")['estado_vendedor'].count().sort_values()"
      ],
      "metadata": {
        "id": "hJBU0i9HcibK",
        "colab": {
          "base_uri": "https://localhost:8080/"
        },
        "outputId": "e894aabb-ff7b-4910-c9b0-16bf7b028710"
      },
      "execution_count": null,
      "outputs": [
        {
          "output_type": "execute_result",
          "data": {
            "text/plain": [
              "estado_vendedor\n",
              "Tocantins (TO)                 1\n",
              "Paraíba (PB)                   1\n",
              "Ceará (CE)                     1\n",
              "Mato Grosso (MT)               2\n",
              "Acre (AC)                      2\n",
              "Sergipe (SE)                   3\n",
              "Espírito Santo (ES)            9\n",
              "Amazonas (AM)                  9\n",
              "Rio Grande do Norte (RN)       9\n",
              "Mato Grosso do Sul (MS)       13\n",
              "Pará (PA)                     17\n",
              "Pernambuco (PE)               20\n",
              "Bahia (BA)                    51\n",
              "Alagoas (AL)                  58\n",
              "Goiás (GO)                   185\n",
              "Minas Gerais (MG)            262\n",
              "Rio Grande do Sul (RS)       281\n",
              "Santa Catarina (SC)          326\n",
              "Paraná (PR)                  388\n",
              "Rio de Janeiro (RJ)          409\n",
              "São Paulo (SP)              2285\n",
              "Name: estado_vendedor, dtype: int64"
            ]
          },
          "metadata": {},
          "execution_count": 23
        }
      ]
    },
    {
      "cell_type": "markdown",
      "source": [
        "Conclui-se que o estado de São Paulo (SP) é o melhor estado para comprar carros que ainda estejam dentro da garantia de fábrica, pois é o estado com maior número de carros que estão dentro da garantia."
      ],
      "metadata": {
        "id": "ub97a6vN8wfv"
      }
    },
    {
      "cell_type": "markdown",
      "source": [
        "**1 Hipótese de negócio: Carros com hodômetro relativamente baixos são em maioria veículos de único dono**"
      ],
      "metadata": {
        "id": "MFDINip59RbP"
      }
    },
    {
      "cell_type": "code",
      "source": [
        "# Obtém lista dos hodometros em ordem crescente\n",
        "hodometros = veiculos_usados['hodometro'].sort_values()\n",
        "\n",
        "# Calcula 1 quartil dos hodometros\n",
        "hodometro_q1 = hodometros.quantile(0.25)\n",
        "\n",
        "# Obtém lista dos hodometros que pertencem ao 1 quartil\n",
        "hodometros_q1  = veiculos_usados.loc[veiculos_usados['hodometro'] <= hodometro_q1]\n",
        "hodometros_q1_len  = len(hodometros_q1)\n",
        "\n",
        "# Obtém lista dos hodometros de veículos de único dono que pertencem ao 1 quartil\n",
        "hodometros_unico_dono  = hodometros_q1.loc[veiculos_usados['veiculo_único_dono'] == True]\n",
        "hodometros_unico_dono_len = len(hodometros_unico_dono)\n",
        "\n",
        "# Obtém lista dos hodometros de veículos de múltiplos donos que pertencem ao 1 quartil\n",
        "hodometros_multiplos_donos  = hodometros_q1.loc[veiculos_usados['veiculo_único_dono'] == False]\n",
        "hodometros_multiplos_donos_len = len(hodometros_multiplos_donos)\n",
        "\n",
        "print(f'Total de hodometros relativamente baixos de único dono: {hodometros_unico_dono_len} (representa {round((hodometros_unico_dono_len/hodometros_q1_len)*100,2)} dos hodometros baixos)')\n",
        "print(f'Total de hodometros relativamente baixos de múltiplos donos: {hodometros_multiplos_donos_len} (representa {round((hodometros_multiplos_donos_len/hodometros_q1_len)*100,2)} dos hodometros baixos)')"
      ],
      "metadata": {
        "colab": {
          "base_uri": "https://localhost:8080/"
        },
        "id": "iC5nl0eP8jJv",
        "outputId": "5d962997-563c-405c-fcb9-0916de4dba90"
      },
      "execution_count": null,
      "outputs": [
        {
          "output_type": "stream",
          "name": "stdout",
          "text": [
            "Total de hodometros relativamente baixos de único dono: 4133 (representa 62.87 dos hodometros baixos)\n",
            "Total de hodometros relativamente baixos de múltiplos donos: 2441 (representa 37.13 dos hodometros baixos)\n"
          ]
        }
      ]
    },
    {
      "cell_type": "markdown",
      "source": [
        "Para teste de hipótese foi utilizado valores de hodometro que pertencem ao 1 quartil em relação aos valores do dataset. Logo foi concluído que veículos com hodômetros relativamente baixos são em maioria veículos de único dono, pois estes representam 62,87% dos anúncios, enquanto que os veículos de múltiplos donos representam só 37,13%"
      ],
      "metadata": {
        "id": "YooTmy-iA5sT"
      }
    }
  ]
}